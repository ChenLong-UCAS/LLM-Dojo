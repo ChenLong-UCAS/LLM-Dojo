{
 "cells": [
  {
   "cell_type": "code",
   "execution_count": 14,
   "outputs": [],
   "source": [
    "from transformers import AutoTokenizer\n",
    "file = '../download_llm/qwen/Qwen-1_8B-Chat'\n",
    "tokenizer = AutoTokenizer.from_pretrained(file, use_fast=False, trust_remote_code=True)"
   ],
   "metadata": {
    "collapsed": false,
    "ExecuteTime": {
     "end_time": "2024-01-28T16:03:39.156239900Z",
     "start_time": "2024-01-28T16:03:38.767567900Z"
    }
   },
   "id": "ced460eeb2758cf3"
  },
  {
   "cell_type": "code",
   "execution_count": 17,
   "outputs": [
    {
     "name": "stderr",
     "output_type": "stream",
     "text": [
      "The model is automatically converting to bf16 for faster inference. If you want to disable the automatic precision, please manually add bf16/fp16/fp32=True to \"AutoModelForCausalLM.from_pretrained\".\n",
      "Try importing flash-attention for faster inference...\n",
      "Warning: import flash_attn rotary fail, please install FlashAttention rotary to get higher efficiency https://github.com/Dao-AILab/flash-attention/tree/main/csrc/rotary\n",
      "Warning: import flash_attn rms_norm fail, please install FlashAttention layer_norm to get higher efficiency https://github.com/Dao-AILab/flash-attention/tree/main/csrc/layer_norm\n",
      "Warning: import flash_attn fail, please install FlashAttention to get higher efficiency https://github.com/Dao-AILab/flash-attention\n"
     ]
    },
    {
     "data": {
      "text/plain": "Loading checkpoint shards:   0%|          | 0/2 [00:00<?, ?it/s]",
      "application/vnd.jupyter.widget-view+json": {
       "version_major": 2,
       "version_minor": 0,
       "model_id": "edb270f0e4b64fa9bc7d26c329934614"
      }
     },
     "metadata": {},
     "output_type": "display_data"
    },
    {
     "data": {
      "text/plain": "QWenLMHeadModel(\n  (transformer): QWenModel(\n    (wte): Embedding(151936, 2048)\n    (drop): Dropout(p=0.0, inplace=False)\n    (rotary_emb): RotaryEmbedding()\n    (h): ModuleList(\n      (0-23): 24 x QWenBlock(\n        (ln_1): RMSNorm()\n        (attn): QWenAttention(\n          (c_attn): Linear(in_features=2048, out_features=6144, bias=True)\n          (c_proj): Linear(in_features=2048, out_features=2048, bias=False)\n          (attn_dropout): Dropout(p=0.0, inplace=False)\n        )\n        (ln_2): RMSNorm()\n        (mlp): QWenMLP(\n          (w1): Linear(in_features=2048, out_features=5504, bias=False)\n          (w2): Linear(in_features=2048, out_features=5504, bias=False)\n          (c_proj): Linear(in_features=5504, out_features=2048, bias=False)\n        )\n      )\n    )\n    (ln_f): RMSNorm()\n  )\n  (lm_head): Linear(in_features=2048, out_features=151936, bias=False)\n)"
     },
     "execution_count": 17,
     "metadata": {},
     "output_type": "execute_result"
    }
   ],
   "source": [
    "tokenizer.pad_token_id = tokenizer.eod_id\n",
    "tokenizer"
   ],
   "metadata": {
    "collapsed": false,
    "ExecuteTime": {
     "end_time": "2024-01-28T16:06:55.567512400Z",
     "start_time": "2024-01-28T16:06:52.002333200Z"
    }
   },
   "id": "2f85cae1173b9455"
  },
  {
   "cell_type": "code",
   "execution_count": 16,
   "outputs": [
    {
     "data": {
      "text/plain": "PeftModelForCausalLM(\n  (base_model): LoraModel(\n    (model): QWenLMHeadModel(\n      (transformer): QWenModel(\n        (wte): Embedding(151936, 2048)\n        (drop): Dropout(p=0.0, inplace=False)\n        (rotary_emb): RotaryEmbedding()\n        (h): ModuleList(\n          (0-23): 24 x QWenBlock(\n            (ln_1): RMSNorm()\n            (attn): QWenAttention(\n              (c_attn): lora.Linear(\n                (base_layer): Linear(in_features=2048, out_features=6144, bias=True)\n                (lora_dropout): ModuleDict(\n                  (default): Dropout(p=0.1, inplace=False)\n                )\n                (lora_A): ModuleDict(\n                  (default): Linear(in_features=2048, out_features=8, bias=False)\n                )\n                (lora_B): ModuleDict(\n                  (default): Linear(in_features=8, out_features=6144, bias=False)\n                )\n                (lora_embedding_A): ParameterDict()\n                (lora_embedding_B): ParameterDict()\n              )\n              (c_proj): lora.Linear(\n                (base_layer): Linear(in_features=2048, out_features=2048, bias=False)\n                (lora_dropout): ModuleDict(\n                  (default): Dropout(p=0.1, inplace=False)\n                )\n                (lora_A): ModuleDict(\n                  (default): Linear(in_features=2048, out_features=8, bias=False)\n                )\n                (lora_B): ModuleDict(\n                  (default): Linear(in_features=8, out_features=2048, bias=False)\n                )\n                (lora_embedding_A): ParameterDict()\n                (lora_embedding_B): ParameterDict()\n              )\n              (attn_dropout): Dropout(p=0.0, inplace=False)\n            )\n            (ln_2): RMSNorm()\n            (mlp): QWenMLP(\n              (w1): lora.Linear(\n                (base_layer): Linear(in_features=2048, out_features=5504, bias=False)\n                (lora_dropout): ModuleDict(\n                  (default): Dropout(p=0.1, inplace=False)\n                )\n                (lora_A): ModuleDict(\n                  (default): Linear(in_features=2048, out_features=8, bias=False)\n                )\n                (lora_B): ModuleDict(\n                  (default): Linear(in_features=8, out_features=5504, bias=False)\n                )\n                (lora_embedding_A): ParameterDict()\n                (lora_embedding_B): ParameterDict()\n              )\n              (w2): lora.Linear(\n                (base_layer): Linear(in_features=2048, out_features=5504, bias=False)\n                (lora_dropout): ModuleDict(\n                  (default): Dropout(p=0.1, inplace=False)\n                )\n                (lora_A): ModuleDict(\n                  (default): Linear(in_features=2048, out_features=8, bias=False)\n                )\n                (lora_B): ModuleDict(\n                  (default): Linear(in_features=8, out_features=5504, bias=False)\n                )\n                (lora_embedding_A): ParameterDict()\n                (lora_embedding_B): ParameterDict()\n              )\n              (c_proj): lora.Linear(\n                (base_layer): Linear(in_features=5504, out_features=2048, bias=False)\n                (lora_dropout): ModuleDict(\n                  (default): Dropout(p=0.1, inplace=False)\n                )\n                (lora_A): ModuleDict(\n                  (default): Linear(in_features=5504, out_features=8, bias=False)\n                )\n                (lora_B): ModuleDict(\n                  (default): Linear(in_features=8, out_features=2048, bias=False)\n                )\n                (lora_embedding_A): ParameterDict()\n                (lora_embedding_B): ParameterDict()\n              )\n            )\n          )\n        )\n        (ln_f): RMSNorm()\n      )\n      (lm_head): Linear(in_features=2048, out_features=151936, bias=False)\n    )\n  )\n)"
     },
     "execution_count": 16,
     "metadata": {},
     "output_type": "execute_result"
    }
   ],
   "source": [
    "instruction = tokenizer.encode(\"<|im_end|>\")\n",
    "instruction"
   ],
   "metadata": {
    "collapsed": false,
    "ExecuteTime": {
     "end_time": "2024-01-28T16:06:17.915252600Z",
     "start_time": "2024-01-28T16:06:17.349544900Z"
    }
   },
   "id": "281f6309eef1be3"
  },
  {
   "cell_type": "code",
   "execution_count": 8,
   "outputs": [
    {
     "data": {
      "text/plain": "{'input_ids': [5477, 31343], 'attention_mask': [1, 1]}"
     },
     "execution_count": 8,
     "metadata": {},
     "output_type": "execute_result"
    }
   ],
   "source": [
    "import json\n",
    "with open('./11.jsonl', 'r', encoding='utf8') as f:\n",
    "    data_list = f.readlines()\n",
    "data = json.loads(data_list[0])\n",
    "data"
   ],
   "metadata": {
    "collapsed": false,
    "ExecuteTime": {
     "end_time": "2024-01-28T15:07:28.655136600Z",
     "start_time": "2024-01-28T15:07:28.645134700Z"
    }
   },
   "id": "9d6cf82226118dc9"
  },
  {
   "cell_type": "code",
   "execution_count": 38,
   "outputs": [
    {
     "ename": "AssertionError",
     "evalue": "",
     "output_type": "error",
     "traceback": [
      "\u001B[1;31m---------------------------------------------------------------------------\u001B[0m",
      "\u001B[1;31mAssertionError\u001B[0m                            Traceback (most recent call last)",
      "Cell \u001B[1;32mIn[38], line 1\u001B[0m\n\u001B[1;32m----> 1\u001B[0m \u001B[38;5;28;01massert\u001B[39;00m \u001B[38;5;28mlen\u001B[39m([\u001B[38;5;241m1\u001B[39m]) \u001B[38;5;241m==\u001B[39m \u001B[38;5;28mlen\u001B[39m([\u001B[38;5;241m1\u001B[39m,\u001B[38;5;241m2\u001B[39m])\n",
      "\u001B[1;31mAssertionError\u001B[0m: "
     ]
    }
   ],
   "source": [
    "assert len([1]) == len([1,2])"
   ],
   "metadata": {
    "collapsed": false,
    "ExecuteTime": {
     "end_time": "2024-01-28T11:37:42.580072700Z",
     "start_time": "2024-01-28T11:37:42.564781500Z"
    }
   },
   "id": "550b3233aa0d74c6"
  },
  {
   "cell_type": "code",
   "execution_count": 39,
   "outputs": [
    {
     "data": {
      "text/plain": "[1, 2, 3, 4]"
     },
     "execution_count": 39,
     "metadata": {},
     "output_type": "execute_result"
    }
   ],
   "source": [
    "a = [1,2,3,4]\n",
    "aa = a[:8]\n",
    "aa"
   ],
   "metadata": {
    "collapsed": false,
    "ExecuteTime": {
     "end_time": "2024-01-28T11:43:18.102640700Z",
     "start_time": "2024-01-28T11:43:18.092635300Z"
    }
   },
   "id": "768e5291ff08fead"
  },
  {
   "cell_type": "code",
   "execution_count": 40,
   "outputs": [
    {
     "name": "stdout",
     "output_type": "stream",
     "text": [
      "-3\n",
      "[1, 2, 3]\n"
     ]
    }
   ],
   "source": [
    "padding_len = 2 - 5\n",
    "# padding\n",
    "input_ids = [1,2,3] + [-1] * padding_len\n",
    "print(padding_len)\n",
    "print(input_ids)"
   ],
   "metadata": {
    "collapsed": false,
    "ExecuteTime": {
     "end_time": "2024-01-28T12:18:11.269218400Z",
     "start_time": "2024-01-28T12:18:11.225824Z"
    }
   },
   "id": "1ca9d6cb5b37b384"
  },
  {
   "cell_type": "code",
   "execution_count": null,
   "outputs": [],
   "source": [],
   "metadata": {
    "collapsed": false
   },
   "id": "892426108c978492"
  }
 ],
 "metadata": {
  "kernelspec": {
   "display_name": "Python 3",
   "language": "python",
   "name": "python3"
  },
  "language_info": {
   "codemirror_mode": {
    "name": "ipython",
    "version": 2
   },
   "file_extension": ".py",
   "mimetype": "text/x-python",
   "name": "python",
   "nbconvert_exporter": "python",
   "pygments_lexer": "ipython2",
   "version": "2.7.6"
  }
 },
 "nbformat": 4,
 "nbformat_minor": 5
}
