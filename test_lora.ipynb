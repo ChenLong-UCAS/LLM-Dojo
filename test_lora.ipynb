{
 "cells": [
  {
   "cell_type": "code",
   "execution_count": 1,
   "id": "initial_id",
   "metadata": {
    "collapsed": true,
    "ExecuteTime": {
     "end_time": "2024-05-06T02:03:14.490157300Z",
     "start_time": "2024-05-06T02:02:54.675739100Z"
    }
   },
   "outputs": [],
   "source": [
    "from peft import LoraConfig, get_peft_model\n",
    "config = LoraConfig"
   ]
  },
  {
   "cell_type": "code",
   "execution_count": 4,
   "outputs": [
    {
     "data": {
      "text/plain": "Loading checkpoint shards:   0%|          | 0/2 [00:00<?, ?it/s]",
      "application/vnd.jupyter.widget-view+json": {
       "version_major": 2,
       "version_minor": 0,
       "model_id": "b78cfb2d95524fa5ac6ec7202150a151"
      }
     },
     "metadata": {},
     "output_type": "display_data"
    },
    {
     "name": "stdout",
     "output_type": "stream",
     "text": [
      "transformer.wte.weight\n",
      "transformer.h.0.ln_1.weight\n",
      "transformer.h.0.attn.c_attn.weight\n",
      "transformer.h.0.attn.c_attn.bias\n",
      "transformer.h.0.attn.c_proj.weight\n",
      "transformer.h.0.ln_2.weight\n",
      "transformer.h.0.mlp.w1.weight\n",
      "transformer.h.0.mlp.w2.weight\n",
      "transformer.h.0.mlp.c_proj.weight\n",
      "transformer.h.1.ln_1.weight\n",
      "transformer.h.1.attn.c_attn.weight\n",
      "transformer.h.1.attn.c_attn.bias\n",
      "transformer.h.1.attn.c_proj.weight\n",
      "transformer.h.1.ln_2.weight\n",
      "transformer.h.1.mlp.w1.weight\n",
      "transformer.h.1.mlp.w2.weight\n",
      "transformer.h.1.mlp.c_proj.weight\n",
      "transformer.h.2.ln_1.weight\n",
      "transformer.h.2.attn.c_attn.weight\n",
      "transformer.h.2.attn.c_attn.bias\n",
      "transformer.h.2.attn.c_proj.weight\n",
      "transformer.h.2.ln_2.weight\n",
      "transformer.h.2.mlp.w1.weight\n",
      "transformer.h.2.mlp.w2.weight\n",
      "transformer.h.2.mlp.c_proj.weight\n",
      "transformer.h.3.ln_1.weight\n",
      "transformer.h.3.attn.c_attn.weight\n",
      "transformer.h.3.attn.c_attn.bias\n",
      "transformer.h.3.attn.c_proj.weight\n",
      "transformer.h.3.ln_2.weight\n",
      "transformer.h.3.mlp.w1.weight\n",
      "transformer.h.3.mlp.w2.weight\n",
      "transformer.h.3.mlp.c_proj.weight\n",
      "transformer.h.4.ln_1.weight\n",
      "transformer.h.4.attn.c_attn.weight\n",
      "transformer.h.4.attn.c_attn.bias\n",
      "transformer.h.4.attn.c_proj.weight\n",
      "transformer.h.4.ln_2.weight\n",
      "transformer.h.4.mlp.w1.weight\n",
      "transformer.h.4.mlp.w2.weight\n",
      "transformer.h.4.mlp.c_proj.weight\n",
      "transformer.h.5.ln_1.weight\n",
      "transformer.h.5.attn.c_attn.weight\n",
      "transformer.h.5.attn.c_attn.bias\n",
      "transformer.h.5.attn.c_proj.weight\n",
      "transformer.h.5.ln_2.weight\n",
      "transformer.h.5.mlp.w1.weight\n",
      "transformer.h.5.mlp.w2.weight\n",
      "transformer.h.5.mlp.c_proj.weight\n",
      "transformer.h.6.ln_1.weight\n",
      "transformer.h.6.attn.c_attn.weight\n",
      "transformer.h.6.attn.c_attn.bias\n",
      "transformer.h.6.attn.c_proj.weight\n",
      "transformer.h.6.ln_2.weight\n",
      "transformer.h.6.mlp.w1.weight\n",
      "transformer.h.6.mlp.w2.weight\n",
      "transformer.h.6.mlp.c_proj.weight\n",
      "transformer.h.7.ln_1.weight\n",
      "transformer.h.7.attn.c_attn.weight\n",
      "transformer.h.7.attn.c_attn.bias\n",
      "transformer.h.7.attn.c_proj.weight\n",
      "transformer.h.7.ln_2.weight\n",
      "transformer.h.7.mlp.w1.weight\n",
      "transformer.h.7.mlp.w2.weight\n",
      "transformer.h.7.mlp.c_proj.weight\n",
      "transformer.h.8.ln_1.weight\n",
      "transformer.h.8.attn.c_attn.weight\n",
      "transformer.h.8.attn.c_attn.bias\n",
      "transformer.h.8.attn.c_proj.weight\n",
      "transformer.h.8.ln_2.weight\n",
      "transformer.h.8.mlp.w1.weight\n",
      "transformer.h.8.mlp.w2.weight\n",
      "transformer.h.8.mlp.c_proj.weight\n",
      "transformer.h.9.ln_1.weight\n",
      "transformer.h.9.attn.c_attn.weight\n",
      "transformer.h.9.attn.c_attn.bias\n",
      "transformer.h.9.attn.c_proj.weight\n",
      "transformer.h.9.ln_2.weight\n",
      "transformer.h.9.mlp.w1.weight\n",
      "transformer.h.9.mlp.w2.weight\n",
      "transformer.h.9.mlp.c_proj.weight\n",
      "transformer.h.10.ln_1.weight\n",
      "transformer.h.10.attn.c_attn.weight\n",
      "transformer.h.10.attn.c_attn.bias\n",
      "transformer.h.10.attn.c_proj.weight\n",
      "transformer.h.10.ln_2.weight\n",
      "transformer.h.10.mlp.w1.weight\n",
      "transformer.h.10.mlp.w2.weight\n",
      "transformer.h.10.mlp.c_proj.weight\n",
      "transformer.h.11.ln_1.weight\n",
      "transformer.h.11.attn.c_attn.weight\n",
      "transformer.h.11.attn.c_attn.bias\n",
      "transformer.h.11.attn.c_proj.weight\n",
      "transformer.h.11.ln_2.weight\n",
      "transformer.h.11.mlp.w1.weight\n",
      "transformer.h.11.mlp.w2.weight\n",
      "transformer.h.11.mlp.c_proj.weight\n",
      "transformer.h.12.ln_1.weight\n",
      "transformer.h.12.attn.c_attn.weight\n",
      "transformer.h.12.attn.c_attn.bias\n",
      "transformer.h.12.attn.c_proj.weight\n",
      "transformer.h.12.ln_2.weight\n",
      "transformer.h.12.mlp.w1.weight\n",
      "transformer.h.12.mlp.w2.weight\n",
      "transformer.h.12.mlp.c_proj.weight\n",
      "transformer.h.13.ln_1.weight\n",
      "transformer.h.13.attn.c_attn.weight\n",
      "transformer.h.13.attn.c_attn.bias\n",
      "transformer.h.13.attn.c_proj.weight\n",
      "transformer.h.13.ln_2.weight\n",
      "transformer.h.13.mlp.w1.weight\n",
      "transformer.h.13.mlp.w2.weight\n",
      "transformer.h.13.mlp.c_proj.weight\n",
      "transformer.h.14.ln_1.weight\n",
      "transformer.h.14.attn.c_attn.weight\n",
      "transformer.h.14.attn.c_attn.bias\n",
      "transformer.h.14.attn.c_proj.weight\n",
      "transformer.h.14.ln_2.weight\n",
      "transformer.h.14.mlp.w1.weight\n",
      "transformer.h.14.mlp.w2.weight\n",
      "transformer.h.14.mlp.c_proj.weight\n",
      "transformer.h.15.ln_1.weight\n",
      "transformer.h.15.attn.c_attn.weight\n",
      "transformer.h.15.attn.c_attn.bias\n",
      "transformer.h.15.attn.c_proj.weight\n",
      "transformer.h.15.ln_2.weight\n",
      "transformer.h.15.mlp.w1.weight\n",
      "transformer.h.15.mlp.w2.weight\n",
      "transformer.h.15.mlp.c_proj.weight\n",
      "transformer.h.16.ln_1.weight\n",
      "transformer.h.16.attn.c_attn.weight\n",
      "transformer.h.16.attn.c_attn.bias\n",
      "transformer.h.16.attn.c_proj.weight\n",
      "transformer.h.16.ln_2.weight\n",
      "transformer.h.16.mlp.w1.weight\n",
      "transformer.h.16.mlp.w2.weight\n",
      "transformer.h.16.mlp.c_proj.weight\n",
      "transformer.h.17.ln_1.weight\n",
      "transformer.h.17.attn.c_attn.weight\n",
      "transformer.h.17.attn.c_attn.bias\n",
      "transformer.h.17.attn.c_proj.weight\n",
      "transformer.h.17.ln_2.weight\n",
      "transformer.h.17.mlp.w1.weight\n",
      "transformer.h.17.mlp.w2.weight\n",
      "transformer.h.17.mlp.c_proj.weight\n",
      "transformer.h.18.ln_1.weight\n",
      "transformer.h.18.attn.c_attn.weight\n",
      "transformer.h.18.attn.c_attn.bias\n",
      "transformer.h.18.attn.c_proj.weight\n",
      "transformer.h.18.ln_2.weight\n",
      "transformer.h.18.mlp.w1.weight\n",
      "transformer.h.18.mlp.w2.weight\n",
      "transformer.h.18.mlp.c_proj.weight\n",
      "transformer.h.19.ln_1.weight\n",
      "transformer.h.19.attn.c_attn.weight\n",
      "transformer.h.19.attn.c_attn.bias\n",
      "transformer.h.19.attn.c_proj.weight\n",
      "transformer.h.19.ln_2.weight\n",
      "transformer.h.19.mlp.w1.weight\n",
      "transformer.h.19.mlp.w2.weight\n",
      "transformer.h.19.mlp.c_proj.weight\n",
      "transformer.h.20.ln_1.weight\n",
      "transformer.h.20.attn.c_attn.weight\n",
      "transformer.h.20.attn.c_attn.bias\n",
      "transformer.h.20.attn.c_proj.weight\n",
      "transformer.h.20.ln_2.weight\n",
      "transformer.h.20.mlp.w1.weight\n",
      "transformer.h.20.mlp.w2.weight\n",
      "transformer.h.20.mlp.c_proj.weight\n",
      "transformer.h.21.ln_1.weight\n",
      "transformer.h.21.attn.c_attn.weight\n",
      "transformer.h.21.attn.c_attn.bias\n",
      "transformer.h.21.attn.c_proj.weight\n",
      "transformer.h.21.ln_2.weight\n",
      "transformer.h.21.mlp.w1.weight\n",
      "transformer.h.21.mlp.w2.weight\n",
      "transformer.h.21.mlp.c_proj.weight\n",
      "transformer.h.22.ln_1.weight\n",
      "transformer.h.22.attn.c_attn.weight\n",
      "transformer.h.22.attn.c_attn.bias\n",
      "transformer.h.22.attn.c_proj.weight\n",
      "transformer.h.22.ln_2.weight\n",
      "transformer.h.22.mlp.w1.weight\n",
      "transformer.h.22.mlp.w2.weight\n",
      "transformer.h.22.mlp.c_proj.weight\n",
      "transformer.h.23.ln_1.weight\n",
      "transformer.h.23.attn.c_attn.weight\n",
      "transformer.h.23.attn.c_attn.bias\n",
      "transformer.h.23.attn.c_proj.weight\n",
      "transformer.h.23.ln_2.weight\n",
      "transformer.h.23.mlp.w1.weight\n",
      "transformer.h.23.mlp.w2.weight\n",
      "transformer.h.23.mlp.c_proj.weight\n",
      "transformer.ln_f.weight\n",
      "lm_head.weight\n"
     ]
    }
   ],
   "source": [
    "from transformers import AutoModelForCausalLM\n",
    "import torch\n",
    "# 查看模型所有可训练参数，在后面加载lora的traget_module时可以选择\n",
    "from transformers import AutoTokenizer\n",
    "file = '../download_llm/Qwen-1_8B-Chat'\n",
    "model = AutoModelForCausalLM.from_pretrained(\n",
    "    file,\n",
    "    trust_remote_code=True\n",
    ")\n",
    "\n",
    "for name, parameter in model.named_parameters():\n",
    "    print(name)"
   ],
   "metadata": {
    "collapsed": false,
    "ExecuteTime": {
     "end_time": "2024-05-06T02:10:57.920886500Z",
     "start_time": "2024-05-06T02:10:31.414232900Z"
    }
   },
   "id": "7d9dc147171da421"
  },
  {
   "cell_type": "code",
   "execution_count": 6,
   "outputs": [
    {
     "data": {
      "text/plain": "QWenLMHeadModel(\n  (transformer): QWenModel(\n    (wte): Embedding(151936, 2048)\n    (drop): Dropout(p=0.0, inplace=False)\n    (rotary_emb): RotaryEmbedding()\n    (h): ModuleList(\n      (0-23): 24 x QWenBlock(\n        (ln_1): RMSNorm()\n        (attn): QWenAttention(\n          (c_attn): Linear(in_features=2048, out_features=6144, bias=True)\n          (c_proj): Linear(in_features=2048, out_features=2048, bias=False)\n          (attn_dropout): Dropout(p=0.0, inplace=False)\n        )\n        (ln_2): RMSNorm()\n        (mlp): QWenMLP(\n          (w1): Linear(in_features=2048, out_features=5504, bias=False)\n          (w2): Linear(in_features=2048, out_features=5504, bias=False)\n          (c_proj): Linear(in_features=5504, out_features=2048, bias=False)\n        )\n      )\n    )\n    (ln_f): RMSNorm()\n  )\n  (lm_head): Linear(in_features=2048, out_features=151936, bias=False)\n)"
     },
     "execution_count": 6,
     "metadata": {},
     "output_type": "execute_result"
    }
   ],
   "source": [
    "model"
   ],
   "metadata": {
    "collapsed": false,
    "ExecuteTime": {
     "end_time": "2024-05-06T02:14:48.639126400Z",
     "start_time": "2024-05-06T02:14:48.618923700Z"
    }
   },
   "id": "d46217204884a8e0"
  },
  {
   "cell_type": "code",
   "execution_count": 12,
   "outputs": [
    {
     "data": {
      "text/plain": "'1'"
     },
     "execution_count": 12,
     "metadata": {},
     "output_type": "execute_result"
    }
   ],
   "source": [
    "a = ['1']\n",
    "a[-1]"
   ],
   "metadata": {
    "collapsed": false,
    "ExecuteTime": {
     "end_time": "2024-05-06T02:33:00.394231500Z",
     "start_time": "2024-05-06T02:33:00.366985500Z"
    }
   },
   "id": "41c67531cc08b9fd"
  },
  {
   "cell_type": "code",
   "execution_count": 11,
   "outputs": [
    {
     "name": "stdout",
     "output_type": "stream",
     "text": [
      "['transformer', 'h', '0', 'attn', 'c_attn']\n",
      "['transformer', 'h', '0', 'attn', 'c_proj']\n",
      "['transformer', 'h', '0', 'mlp', 'w1']\n",
      "['transformer', 'h', '0', 'mlp', 'w2']\n",
      "['transformer', 'h', '0', 'mlp', 'c_proj']\n",
      "['transformer', 'h', '1', 'attn', 'c_attn']\n",
      "['transformer', 'h', '1', 'attn', 'c_proj']\n",
      "['transformer', 'h', '1', 'mlp', 'w1']\n",
      "['transformer', 'h', '1', 'mlp', 'w2']\n",
      "['transformer', 'h', '1', 'mlp', 'c_proj']\n",
      "['transformer', 'h', '2', 'attn', 'c_attn']\n",
      "['transformer', 'h', '2', 'attn', 'c_proj']\n",
      "['transformer', 'h', '2', 'mlp', 'w1']\n",
      "['transformer', 'h', '2', 'mlp', 'w2']\n",
      "['transformer', 'h', '2', 'mlp', 'c_proj']\n",
      "['transformer', 'h', '3', 'attn', 'c_attn']\n",
      "['transformer', 'h', '3', 'attn', 'c_proj']\n",
      "['transformer', 'h', '3', 'mlp', 'w1']\n",
      "['transformer', 'h', '3', 'mlp', 'w2']\n",
      "['transformer', 'h', '3', 'mlp', 'c_proj']\n",
      "['transformer', 'h', '4', 'attn', 'c_attn']\n",
      "['transformer', 'h', '4', 'attn', 'c_proj']\n",
      "['transformer', 'h', '4', 'mlp', 'w1']\n",
      "['transformer', 'h', '4', 'mlp', 'w2']\n",
      "['transformer', 'h', '4', 'mlp', 'c_proj']\n",
      "['transformer', 'h', '5', 'attn', 'c_attn']\n",
      "['transformer', 'h', '5', 'attn', 'c_proj']\n",
      "['transformer', 'h', '5', 'mlp', 'w1']\n",
      "['transformer', 'h', '5', 'mlp', 'w2']\n",
      "['transformer', 'h', '5', 'mlp', 'c_proj']\n",
      "['transformer', 'h', '6', 'attn', 'c_attn']\n",
      "['transformer', 'h', '6', 'attn', 'c_proj']\n",
      "['transformer', 'h', '6', 'mlp', 'w1']\n",
      "['transformer', 'h', '6', 'mlp', 'w2']\n",
      "['transformer', 'h', '6', 'mlp', 'c_proj']\n",
      "['transformer', 'h', '7', 'attn', 'c_attn']\n",
      "['transformer', 'h', '7', 'attn', 'c_proj']\n",
      "['transformer', 'h', '7', 'mlp', 'w1']\n",
      "['transformer', 'h', '7', 'mlp', 'w2']\n",
      "['transformer', 'h', '7', 'mlp', 'c_proj']\n",
      "['transformer', 'h', '8', 'attn', 'c_attn']\n",
      "['transformer', 'h', '8', 'attn', 'c_proj']\n",
      "['transformer', 'h', '8', 'mlp', 'w1']\n",
      "['transformer', 'h', '8', 'mlp', 'w2']\n",
      "['transformer', 'h', '8', 'mlp', 'c_proj']\n",
      "['transformer', 'h', '9', 'attn', 'c_attn']\n",
      "['transformer', 'h', '9', 'attn', 'c_proj']\n",
      "['transformer', 'h', '9', 'mlp', 'w1']\n",
      "['transformer', 'h', '9', 'mlp', 'w2']\n",
      "['transformer', 'h', '9', 'mlp', 'c_proj']\n",
      "['transformer', 'h', '10', 'attn', 'c_attn']\n",
      "['transformer', 'h', '10', 'attn', 'c_proj']\n",
      "['transformer', 'h', '10', 'mlp', 'w1']\n",
      "['transformer', 'h', '10', 'mlp', 'w2']\n",
      "['transformer', 'h', '10', 'mlp', 'c_proj']\n",
      "['transformer', 'h', '11', 'attn', 'c_attn']\n",
      "['transformer', 'h', '11', 'attn', 'c_proj']\n",
      "['transformer', 'h', '11', 'mlp', 'w1']\n",
      "['transformer', 'h', '11', 'mlp', 'w2']\n",
      "['transformer', 'h', '11', 'mlp', 'c_proj']\n",
      "['transformer', 'h', '12', 'attn', 'c_attn']\n",
      "['transformer', 'h', '12', 'attn', 'c_proj']\n",
      "['transformer', 'h', '12', 'mlp', 'w1']\n",
      "['transformer', 'h', '12', 'mlp', 'w2']\n",
      "['transformer', 'h', '12', 'mlp', 'c_proj']\n",
      "['transformer', 'h', '13', 'attn', 'c_attn']\n",
      "['transformer', 'h', '13', 'attn', 'c_proj']\n",
      "['transformer', 'h', '13', 'mlp', 'w1']\n",
      "['transformer', 'h', '13', 'mlp', 'w2']\n",
      "['transformer', 'h', '13', 'mlp', 'c_proj']\n",
      "['transformer', 'h', '14', 'attn', 'c_attn']\n",
      "['transformer', 'h', '14', 'attn', 'c_proj']\n",
      "['transformer', 'h', '14', 'mlp', 'w1']\n",
      "['transformer', 'h', '14', 'mlp', 'w2']\n",
      "['transformer', 'h', '14', 'mlp', 'c_proj']\n",
      "['transformer', 'h', '15', 'attn', 'c_attn']\n",
      "['transformer', 'h', '15', 'attn', 'c_proj']\n",
      "['transformer', 'h', '15', 'mlp', 'w1']\n",
      "['transformer', 'h', '15', 'mlp', 'w2']\n",
      "['transformer', 'h', '15', 'mlp', 'c_proj']\n",
      "['transformer', 'h', '16', 'attn', 'c_attn']\n",
      "['transformer', 'h', '16', 'attn', 'c_proj']\n",
      "['transformer', 'h', '16', 'mlp', 'w1']\n",
      "['transformer', 'h', '16', 'mlp', 'w2']\n",
      "['transformer', 'h', '16', 'mlp', 'c_proj']\n",
      "['transformer', 'h', '17', 'attn', 'c_attn']\n",
      "['transformer', 'h', '17', 'attn', 'c_proj']\n",
      "['transformer', 'h', '17', 'mlp', 'w1']\n",
      "['transformer', 'h', '17', 'mlp', 'w2']\n",
      "['transformer', 'h', '17', 'mlp', 'c_proj']\n",
      "['transformer', 'h', '18', 'attn', 'c_attn']\n",
      "['transformer', 'h', '18', 'attn', 'c_proj']\n",
      "['transformer', 'h', '18', 'mlp', 'w1']\n",
      "['transformer', 'h', '18', 'mlp', 'w2']\n",
      "['transformer', 'h', '18', 'mlp', 'c_proj']\n",
      "['transformer', 'h', '19', 'attn', 'c_attn']\n",
      "['transformer', 'h', '19', 'attn', 'c_proj']\n",
      "['transformer', 'h', '19', 'mlp', 'w1']\n",
      "['transformer', 'h', '19', 'mlp', 'w2']\n",
      "['transformer', 'h', '19', 'mlp', 'c_proj']\n",
      "['transformer', 'h', '20', 'attn', 'c_attn']\n",
      "['transformer', 'h', '20', 'attn', 'c_proj']\n",
      "['transformer', 'h', '20', 'mlp', 'w1']\n",
      "['transformer', 'h', '20', 'mlp', 'w2']\n",
      "['transformer', 'h', '20', 'mlp', 'c_proj']\n",
      "['transformer', 'h', '21', 'attn', 'c_attn']\n",
      "['transformer', 'h', '21', 'attn', 'c_proj']\n",
      "['transformer', 'h', '21', 'mlp', 'w1']\n",
      "['transformer', 'h', '21', 'mlp', 'w2']\n",
      "['transformer', 'h', '21', 'mlp', 'c_proj']\n",
      "['transformer', 'h', '22', 'attn', 'c_attn']\n",
      "['transformer', 'h', '22', 'attn', 'c_proj']\n",
      "['transformer', 'h', '22', 'mlp', 'w1']\n",
      "['transformer', 'h', '22', 'mlp', 'w2']\n",
      "['transformer', 'h', '22', 'mlp', 'c_proj']\n",
      "['transformer', 'h', '23', 'attn', 'c_attn']\n",
      "['transformer', 'h', '23', 'attn', 'c_proj']\n",
      "['transformer', 'h', '23', 'mlp', 'w1']\n",
      "['transformer', 'h', '23', 'mlp', 'w2']\n",
      "['transformer', 'h', '23', 'mlp', 'c_proj']\n",
      "['lm_head']\n"
     ]
    }
   ],
   "source": [
    "import torch.nn as nn\n",
    "cls =  nn.Linear\n",
    "for name, module in model.named_modules():\n",
    "    if isinstance(module, cls):\n",
    "            names = name.split('.')\n",
    "            print(names)"
   ],
   "metadata": {
    "collapsed": false,
    "ExecuteTime": {
     "end_time": "2024-05-06T02:32:29.239709500Z",
     "start_time": "2024-05-06T02:32:29.220033300Z"
    }
   },
   "id": "268a0bea2e3b5ef8"
  },
  {
   "cell_type": "markdown",
   "source": [
    "## Lora Test"
   ],
   "metadata": {
    "collapsed": false
   },
   "id": "93b7df75228475e0"
  },
  {
   "cell_type": "code",
   "execution_count": 1,
   "outputs": [
    {
     "name": "stdout",
     "output_type": "stream",
     "text": [
      "True\n"
     ]
    }
   ],
   "source": [
    "import torch\n",
    "print(torch.cuda.is_available())"
   ],
   "metadata": {
    "collapsed": false,
    "ExecuteTime": {
     "end_time": "2024-02-03T13:45:01.507872400Z",
     "start_time": "2024-02-03T13:45:00.226352700Z"
    }
   },
   "id": "678771b706ebfe05"
  },
  {
   "cell_type": "code",
   "execution_count": 7,
   "outputs": [
    {
     "data": {
      "text/plain": "PeftModelForCausalLM(\n  (base_model): LoraModel(\n    (model): QWenLMHeadModel(\n      (transformer): QWenModel(\n        (wte): Embedding(151936, 2048)\n        (drop): Dropout(p=0.0, inplace=False)\n        (rotary_emb): RotaryEmbedding()\n        (h): ModuleList(\n          (0-23): 24 x QWenBlock(\n            (ln_1): RMSNorm()\n            (attn): QWenAttention(\n              (c_attn): lora.Linear(\n                (base_layer): Linear(in_features=2048, out_features=6144, bias=True)\n                (lora_dropout): ModuleDict(\n                  (default): Dropout(p=0.1, inplace=False)\n                )\n                (lora_A): ModuleDict(\n                  (default): Linear(in_features=2048, out_features=8, bias=False)\n                )\n                (lora_B): ModuleDict(\n                  (default): Linear(in_features=8, out_features=6144, bias=False)\n                )\n                (lora_embedding_A): ParameterDict()\n                (lora_embedding_B): ParameterDict()\n              )\n              (c_proj): lora.Linear(\n                (base_layer): Linear(in_features=2048, out_features=2048, bias=False)\n                (lora_dropout): ModuleDict(\n                  (default): Dropout(p=0.1, inplace=False)\n                )\n                (lora_A): ModuleDict(\n                  (default): Linear(in_features=2048, out_features=8, bias=False)\n                )\n                (lora_B): ModuleDict(\n                  (default): Linear(in_features=8, out_features=2048, bias=False)\n                )\n                (lora_embedding_A): ParameterDict()\n                (lora_embedding_B): ParameterDict()\n              )\n              (attn_dropout): Dropout(p=0.0, inplace=False)\n            )\n            (ln_2): RMSNorm()\n            (mlp): QWenMLP(\n              (w1): lora.Linear(\n                (base_layer): Linear(in_features=2048, out_features=5504, bias=False)\n                (lora_dropout): ModuleDict(\n                  (default): Dropout(p=0.1, inplace=False)\n                )\n                (lora_A): ModuleDict(\n                  (default): Linear(in_features=2048, out_features=8, bias=False)\n                )\n                (lora_B): ModuleDict(\n                  (default): Linear(in_features=8, out_features=5504, bias=False)\n                )\n                (lora_embedding_A): ParameterDict()\n                (lora_embedding_B): ParameterDict()\n              )\n              (w2): lora.Linear(\n                (base_layer): Linear(in_features=2048, out_features=5504, bias=False)\n                (lora_dropout): ModuleDict(\n                  (default): Dropout(p=0.1, inplace=False)\n                )\n                (lora_A): ModuleDict(\n                  (default): Linear(in_features=2048, out_features=8, bias=False)\n                )\n                (lora_B): ModuleDict(\n                  (default): Linear(in_features=8, out_features=5504, bias=False)\n                )\n                (lora_embedding_A): ParameterDict()\n                (lora_embedding_B): ParameterDict()\n              )\n              (c_proj): lora.Linear(\n                (base_layer): Linear(in_features=5504, out_features=2048, bias=False)\n                (lora_dropout): ModuleDict(\n                  (default): Dropout(p=0.1, inplace=False)\n                )\n                (lora_A): ModuleDict(\n                  (default): Linear(in_features=5504, out_features=8, bias=False)\n                )\n                (lora_B): ModuleDict(\n                  (default): Linear(in_features=8, out_features=2048, bias=False)\n                )\n                (lora_embedding_A): ParameterDict()\n                (lora_embedding_B): ParameterDict()\n              )\n            )\n          )\n        )\n        (ln_f): RMSNorm()\n      )\n      (lm_head): Linear(in_features=2048, out_features=151936, bias=False)\n    )\n  )\n)"
     },
     "execution_count": 7,
     "metadata": {},
     "output_type": "execute_result"
    }
   ],
   "source": [
    "from peft import LoraConfig, TaskType, get_peft_model\n",
    "config = LoraConfig(\n",
    "    task_type=TaskType.CAUSAL_LM,\n",
    "    target_modules=[\"c_attn\", \"c_proj\", \"w1\", \"w2\"],  # 这个不同的模型需要设置不同的参数，需要看模型中的attention层\n",
    "    inference_mode=False,  # 训练模式\n",
    "    r=8,  # Lora 秩\n",
    "    lora_alpha=32,  # Lora alaph，具体作用参见 Lora 原理\n",
    "    lora_dropout=0.1  # Dropout 比例\n",
    ")\n",
    "# 加载lora参数\n",
    "model = get_peft_model(model, config)\n",
    "model"
   ],
   "metadata": {
    "collapsed": false,
    "ExecuteTime": {
     "end_time": "2024-02-03T14:27:47.392208400Z",
     "start_time": "2024-02-03T14:27:47.119607100Z"
    }
   },
   "id": "9badb544d969849f"
  },
  {
   "cell_type": "code",
   "execution_count": null,
   "outputs": [],
   "source": [],
   "metadata": {
    "collapsed": false
   },
   "id": "5bed66243de78b03"
  }
 ],
 "metadata": {
  "kernelspec": {
   "display_name": "Python 3",
   "language": "python",
   "name": "python3"
  },
  "language_info": {
   "codemirror_mode": {
    "name": "ipython",
    "version": 2
   },
   "file_extension": ".py",
   "mimetype": "text/x-python",
   "name": "python",
   "nbconvert_exporter": "python",
   "pygments_lexer": "ipython2",
   "version": "2.7.6"
  }
 },
 "nbformat": 4,
 "nbformat_minor": 5
}
